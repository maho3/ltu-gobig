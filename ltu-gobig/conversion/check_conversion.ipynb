{
 "cells": [
  {
   "cell_type": "code",
   "execution_count": 1,
   "metadata": {},
   "outputs": [],
   "source": [
    "%load_ext autoreload\n",
    "%autoreload 2\n",
    "\n",
    "import os\n",
    "from os.path import join\n",
    "from tqdm import tqdm"
   ]
  },
  {
   "cell_type": "code",
   "execution_count": 49,
   "metadata": {},
   "outputs": [
    {
     "name": "stderr",
     "output_type": "stream",
     "text": [
      "100%|██████████| 933/933 [00:00<00:00, 3756.75it/s]"
     ]
    },
    {
     "name": "stdout",
     "output_type": "stream",
     "text": [
      "config.yaml          932\n",
      "diag                 932\n",
      "nbody.h5             932\n",
      "transfer.h5          932\n",
      "halos.h5             931\n",
      "galaxies             931\n",
      "lightcone            930\n"
     ]
    },
    {
     "name": "stderr",
     "output_type": "stream",
     "text": [
      "\n"
     ]
    }
   ],
   "source": [
    "from collections import defaultdict\n",
    "suitepath = '/home/mattho/git/ltu-cmass/data/2gpch_0704/borgpm/L2000-N256/'\n",
    "\n",
    "c = defaultdict(lambda: [])\n",
    "for r in tqdm(os.listdir(suitepath)):\n",
    "    for k in os.listdir(join(suitepath, r)):\n",
    "        c[k].append(r)\n",
    "for k, v in c.items():\n",
    "    print(k.ljust(20), len(v))"
   ]
  },
  {
   "cell_type": "code",
   "execution_count": 29,
   "metadata": {},
   "outputs": [],
   "source": [
    "# import shutil\n",
    "# for idx in c['rho_transfer.npy']:\n",
    "#     simpath = join(suitepath, idx)\n",
    "#     if not os.path.isdir(simpath):\n",
    "#         continue\n",
    "#     if 'config.yaml' not in os.listdir(simpath):\n",
    "#         print('Removing', idx, os.listdir(simpath))\n",
    "#         # shutil.rmtree(simpath)"
   ]
  }
 ],
 "metadata": {
  "kernelspec": {
   "display_name": "cmass",
   "language": "python",
   "name": "python3"
  },
  "language_info": {
   "codemirror_mode": {
    "name": "ipython",
    "version": 3
   },
   "file_extension": ".py",
   "mimetype": "text/x-python",
   "name": "python",
   "nbconvert_exporter": "python",
   "pygments_lexer": "ipython3",
   "version": "3.10.13"
  }
 },
 "nbformat": 4,
 "nbformat_minor": 2
}
